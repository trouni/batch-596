{
 "cells": [
  {
   "cell_type": "markdown",
   "id": "b7560f38-20ae-421e-85fe-8e590c5f6dd7",
   "metadata": {},
   "source": [
    "### Importing the `lewagon` package in our notebook"
   ]
  },
  {
   "cell_type": "code",
   "execution_count": 1,
   "id": "793e9967-7c0a-4be0-a7fc-88f3d0081b49",
   "metadata": {},
   "outputs": [
    {
     "ename": "ModuleNotFoundError",
     "evalue": "No module named 'lewagon'",
     "output_type": "error",
     "traceback": [
      "\u001b[0;31m---------------------------------------------------------------------------\u001b[0m",
      "\u001b[0;31mModuleNotFoundError\u001b[0m                       Traceback (most recent call last)",
      "\u001b[0;32m<ipython-input-1-501c32a6be17>\u001b[0m in \u001b[0;36m<module>\u001b[0;34m\u001b[0m\n\u001b[0;32m----> 1\u001b[0;31m \u001b[0;32mfrom\u001b[0m \u001b[0mlewagon\u001b[0m\u001b[0;34m.\u001b[0m\u001b[0mstudent\u001b[0m \u001b[0;32mimport\u001b[0m \u001b[0mStudent\u001b[0m\u001b[0;34m\u001b[0m\u001b[0;34m\u001b[0m\u001b[0m\n\u001b[0m",
      "\u001b[0;31mModuleNotFoundError\u001b[0m: No module named 'lewagon'"
     ]
    }
   ],
   "source": [
    "from lewagon.student import Student"
   ]
  },
  {
   "cell_type": "code",
   "execution_count": 2,
   "id": "8e0aa9cd-0c37-4880-b42d-600699994fa3",
   "metadata": {},
   "outputs": [
    {
     "name": "stdout",
     "output_type": "stream",
     "text": [
      "/Users/trouni/Code/lewagon/batch-596/lectures/olist-project-setup/notebooks\n"
     ]
    }
   ],
   "source": [
    "!pwd"
   ]
  },
  {
   "cell_type": "markdown",
   "id": "dd3978d7-5cca-40e5-81e1-879dbd50065a",
   "metadata": {},
   "source": [
    "Python doesn't find the `lewagon` package in the current folder. We can see all of the folders that python searches through for packages using `sys.path`:"
   ]
  },
  {
   "cell_type": "code",
   "execution_count": 3,
   "id": "0bf7c405-8807-4b19-ab4a-873555bba882",
   "metadata": {},
   "outputs": [
    {
     "data": {
      "text/plain": [
       "['/Users/trouni/Code/lewagon/batch-596/lectures/olist-project-setup/notebooks',\n",
       " '/Users/trouni/code/data-challenges/04-Decision-Science',\n",
       " '/Users/trouni/Code/lewagon/batch-596/lectures/olist-project-setup/notebooks',\n",
       " '/Users/trouni/.pyenv/versions/3.8.6/lib/python38.zip',\n",
       " '/Users/trouni/.pyenv/versions/3.8.6/lib/python3.8',\n",
       " '/Users/trouni/.pyenv/versions/3.8.6/lib/python3.8/lib-dynload',\n",
       " '',\n",
       " '/Users/trouni/.pyenv/versions/3.8.6/envs/lewagon/lib/python3.8/site-packages',\n",
       " '/Users/trouni/.pyenv/versions/3.8.6/envs/lewagon/lib/python3.8/site-packages/IPython/extensions',\n",
       " '/Users/trouni/.ipython']"
      ]
     },
     "execution_count": 3,
     "metadata": {},
     "output_type": "execute_result"
    }
   ],
   "source": [
    "import sys; sys.path"
   ]
  },
  {
   "cell_type": "markdown",
   "id": "3eab768f-7a71-4cee-882c-a878a7fa7a0d",
   "metadata": {},
   "source": [
    "We need to add the project folder to the `sys.path`"
   ]
  },
  {
   "cell_type": "code",
   "execution_count": 4,
   "id": "1bf6afd2-e5fc-47b3-8f0a-03a801bd27f9",
   "metadata": {},
   "outputs": [],
   "source": [
    "sys.path.append('/Users/trouni/Code/lewagon/batch-596/lectures/olist-project-setup')"
   ]
  },
  {
   "cell_type": "code",
   "execution_count": 5,
   "id": "6a3777bd-bd8d-4998-b59f-b92873d708d2",
   "metadata": {},
   "outputs": [
    {
     "data": {
      "text/plain": [
       "['/Users/trouni/Code/lewagon/batch-596/lectures/olist-project-setup/notebooks',\n",
       " '/Users/trouni/code/data-challenges/04-Decision-Science',\n",
       " '/Users/trouni/Code/lewagon/batch-596/lectures/olist-project-setup/notebooks',\n",
       " '/Users/trouni/.pyenv/versions/3.8.6/lib/python38.zip',\n",
       " '/Users/trouni/.pyenv/versions/3.8.6/lib/python3.8',\n",
       " '/Users/trouni/.pyenv/versions/3.8.6/lib/python3.8/lib-dynload',\n",
       " '',\n",
       " '/Users/trouni/.pyenv/versions/3.8.6/envs/lewagon/lib/python3.8/site-packages',\n",
       " '/Users/trouni/.pyenv/versions/3.8.6/envs/lewagon/lib/python3.8/site-packages/IPython/extensions',\n",
       " '/Users/trouni/.ipython',\n",
       " '/Users/trouni/Code/lewagon/batch-596/lectures/olist-project-setup']"
      ]
     },
     "execution_count": 5,
     "metadata": {},
     "output_type": "execute_result"
    }
   ],
   "source": [
    "sys.path"
   ]
  },
  {
   "cell_type": "code",
   "execution_count": 6,
   "id": "228c883e-b843-4429-9f72-ffa21be2c973",
   "metadata": {},
   "outputs": [
    {
     "name": "stdout",
     "output_type": "stream",
     "text": [
      "Initializing the lewagon package...\n"
     ]
    }
   ],
   "source": [
    "from lewagon.student import Student"
   ]
  },
  {
   "cell_type": "markdown",
   "id": "fe186dce-c3be-4de2-9366-2778aa566d5b",
   "metadata": {},
   "source": [
    "## PYTHONPATH"
   ]
  },
  {
   "cell_type": "code",
   "execution_count": 7,
   "id": "dd106658-7dc9-4cc1-8b67-43f359b24893",
   "metadata": {},
   "outputs": [
    {
     "data": {
      "text/plain": [
       "'/Users/trouni/code/data-challenges/04-Decision-Science:'"
      ]
     },
     "execution_count": 7,
     "metadata": {},
     "output_type": "execute_result"
    }
   ],
   "source": [
    "import os; os.environ['PYTHONPATH']"
   ]
  },
  {
   "cell_type": "code",
   "execution_count": 8,
   "id": "bb2c32ec-e2cb-43e2-9dbf-8b4da02d6b0f",
   "metadata": {},
   "outputs": [
    {
     "data": {
      "text/plain": [
       "['/Users/trouni/Code/lewagon/batch-596/lectures/olist-project-setup/notebooks',\n",
       " '/Users/trouni/code/data-challenges/04-Decision-Science',\n",
       " '/Users/trouni/Code/lewagon/batch-596/lectures/olist-project-setup/notebooks',\n",
       " '/Users/trouni/.pyenv/versions/3.8.6/lib/python38.zip',\n",
       " '/Users/trouni/.pyenv/versions/3.8.6/lib/python3.8',\n",
       " '/Users/trouni/.pyenv/versions/3.8.6/lib/python3.8/lib-dynload',\n",
       " '',\n",
       " '/Users/trouni/.pyenv/versions/3.8.6/envs/lewagon/lib/python3.8/site-packages',\n",
       " '/Users/trouni/.pyenv/versions/3.8.6/envs/lewagon/lib/python3.8/site-packages/IPython/extensions',\n",
       " '/Users/trouni/.ipython',\n",
       " '/Users/trouni/Code/lewagon/batch-596/lectures/olist-project-setup']"
      ]
     },
     "execution_count": 8,
     "metadata": {},
     "output_type": "execute_result"
    }
   ],
   "source": [
    "import sys; sys.path"
   ]
  },
  {
   "cell_type": "code",
   "execution_count": null,
   "id": "8efd5cb6-5298-48b7-8d38-ede805dc35ad",
   "metadata": {},
   "outputs": [],
   "source": []
  }
 ],
 "metadata": {
  "kernelspec": {
   "display_name": "Python 3",
   "language": "python",
   "name": "python3"
  },
  "language_info": {
   "codemirror_mode": {
    "name": "ipython",
    "version": 3
   },
   "file_extension": ".py",
   "mimetype": "text/x-python",
   "name": "python",
   "nbconvert_exporter": "python",
   "pygments_lexer": "ipython3",
   "version": "3.8.6"
  }
 },
 "nbformat": 4,
 "nbformat_minor": 5
}
