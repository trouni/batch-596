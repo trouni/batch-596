{
 "cells": [
  {
   "cell_type": "markdown",
   "id": "46c11f13-3a96-47c2-94e2-33ad898ddd18",
   "metadata": {},
   "source": [
    "# My beautiful notebook 🚀"
   ]
  },
  {
   "cell_type": "code",
   "execution_count": 1,
   "id": "d15c3453-6979-4361-877a-3d51a1df4dd0",
   "metadata": {
    "slideshow": {
     "slide_type": "skip"
    },
    "tags": []
   },
   "outputs": [],
   "source": [
    "import numpy as np\n",
    "import pandas as pd\n",
    "import plotly.io as pio\n",
    "pio.renderers.default = 'jupyterlab'"
   ]
  },
  {
   "cell_type": "code",
   "execution_count": 2,
   "id": "d339318e-b2b1-457e-a6f7-c79df49e35e7",
   "metadata": {
    "slideshow": {
     "slide_type": "slide"
    },
    "tags": []
   },
   "outputs": [
    {
     "output_type": "execute_result",
     "data": {
      "text/plain": [
       "   lift  benefit\n",
       "0  0.01  20000.0\n",
       "1  0.02  40000.0\n",
       "2  0.03  60000.0\n",
       "3  0.04  80000.0"
      ],
      "text/html": "<div>\n<style scoped>\n    .dataframe tbody tr th:only-of-type {\n        vertical-align: middle;\n    }\n\n    .dataframe tbody tr th {\n        vertical-align: top;\n    }\n\n    .dataframe thead th {\n        text-align: right;\n    }\n</style>\n<table border=\"1\" class=\"dataframe\">\n  <thead>\n    <tr style=\"text-align: right;\">\n      <th></th>\n      <th>lift</th>\n      <th>benefit</th>\n    </tr>\n  </thead>\n  <tbody>\n    <tr>\n      <th>0</th>\n      <td>0.01</td>\n      <td>20000.0</td>\n    </tr>\n    <tr>\n      <th>1</th>\n      <td>0.02</td>\n      <td>40000.0</td>\n    </tr>\n    <tr>\n      <th>2</th>\n      <td>0.03</td>\n      <td>60000.0</td>\n    </tr>\n    <tr>\n      <th>3</th>\n      <td>0.04</td>\n      <td>80000.0</td>\n    </tr>\n  </tbody>\n</table>\n</div>"
     },
     "metadata": {},
     "execution_count": 2
    }
   ],
   "source": [
    "lift = np.arange(0.01, 0.05, 0.01)\n",
    "benefits = pd.DataFrame({'lift': lift, \n",
    "                        'benefit': 100000*20*lift})\n",
    "benefits"
   ]
  },
  {
   "cell_type": "code",
   "execution_count": 3,
   "id": "cf7e3a86-1bba-4ff4-bc02-65da499945ab",
   "metadata": {},
   "outputs": [
    {
     "output_type": "execute_result",
     "data": {
      "text/plain": [
       "   mandays   cost\n",
       "0       20  30000\n",
       "1       30  45000\n",
       "2       40  60000\n",
       "3       50  75000"
      ],
      "text/html": "<div>\n<style scoped>\n    .dataframe tbody tr th:only-of-type {\n        vertical-align: middle;\n    }\n\n    .dataframe tbody tr th {\n        vertical-align: top;\n    }\n\n    .dataframe thead th {\n        text-align: right;\n    }\n</style>\n<table border=\"1\" class=\"dataframe\">\n  <thead>\n    <tr style=\"text-align: right;\">\n      <th></th>\n      <th>mandays</th>\n      <th>cost</th>\n    </tr>\n  </thead>\n  <tbody>\n    <tr>\n      <th>0</th>\n      <td>20</td>\n      <td>30000</td>\n    </tr>\n    <tr>\n      <th>1</th>\n      <td>30</td>\n      <td>45000</td>\n    </tr>\n    <tr>\n      <th>2</th>\n      <td>40</td>\n      <td>60000</td>\n    </tr>\n    <tr>\n      <th>3</th>\n      <td>50</td>\n      <td>75000</td>\n    </tr>\n  </tbody>\n</table>\n</div>"
     },
     "metadata": {},
     "execution_count": 3
    }
   ],
   "source": [
    "mandays = np.arange(20, 60, 10)\n",
    "\n",
    "costs = pd.DataFrame({'mandays':mandays, \n",
    "                     'cost': mandays*500*3})\n",
    "costs"
   ]
  },
  {
   "cell_type": "code",
   "execution_count": 4,
   "id": "daa800ef-ce38-4edc-a2e7-0d73c0493e17",
   "metadata": {
    "slideshow": {
     "slide_type": "slide"
    },
    "tags": []
   },
   "outputs": [],
   "source": [
    "benefits['ones'] = 1\n",
    "costs['ones'] = 1"
   ]
  },
  {
   "cell_type": "code",
   "execution_count": 5,
   "id": "64bd8e50-d2a8-4575-a9ae-ee11283015a5",
   "metadata": {},
   "outputs": [
    {
     "output_type": "execute_result",
     "data": {
      "text/plain": [
       "    lift  benefit  mandays   cost      ROI\n",
       "0   0.01  20000.0       20  30000 -10000.0\n",
       "1   0.01  20000.0       30  45000 -25000.0\n",
       "2   0.01  20000.0       40  60000 -40000.0\n",
       "3   0.01  20000.0       50  75000 -55000.0\n",
       "4   0.02  40000.0       20  30000  10000.0\n",
       "5   0.02  40000.0       30  45000  -5000.0\n",
       "6   0.02  40000.0       40  60000 -20000.0\n",
       "7   0.02  40000.0       50  75000 -35000.0\n",
       "8   0.03  60000.0       20  30000  30000.0\n",
       "9   0.03  60000.0       30  45000  15000.0\n",
       "10  0.03  60000.0       40  60000      0.0\n",
       "11  0.03  60000.0       50  75000 -15000.0\n",
       "12  0.04  80000.0       20  30000  50000.0\n",
       "13  0.04  80000.0       30  45000  35000.0\n",
       "14  0.04  80000.0       40  60000  20000.0\n",
       "15  0.04  80000.0       50  75000   5000.0"
      ],
      "text/html": "<div>\n<style scoped>\n    .dataframe tbody tr th:only-of-type {\n        vertical-align: middle;\n    }\n\n    .dataframe tbody tr th {\n        vertical-align: top;\n    }\n\n    .dataframe thead th {\n        text-align: right;\n    }\n</style>\n<table border=\"1\" class=\"dataframe\">\n  <thead>\n    <tr style=\"text-align: right;\">\n      <th></th>\n      <th>lift</th>\n      <th>benefit</th>\n      <th>mandays</th>\n      <th>cost</th>\n      <th>ROI</th>\n    </tr>\n  </thead>\n  <tbody>\n    <tr>\n      <th>0</th>\n      <td>0.01</td>\n      <td>20000.0</td>\n      <td>20</td>\n      <td>30000</td>\n      <td>-10000.0</td>\n    </tr>\n    <tr>\n      <th>1</th>\n      <td>0.01</td>\n      <td>20000.0</td>\n      <td>30</td>\n      <td>45000</td>\n      <td>-25000.0</td>\n    </tr>\n    <tr>\n      <th>2</th>\n      <td>0.01</td>\n      <td>20000.0</td>\n      <td>40</td>\n      <td>60000</td>\n      <td>-40000.0</td>\n    </tr>\n    <tr>\n      <th>3</th>\n      <td>0.01</td>\n      <td>20000.0</td>\n      <td>50</td>\n      <td>75000</td>\n      <td>-55000.0</td>\n    </tr>\n    <tr>\n      <th>4</th>\n      <td>0.02</td>\n      <td>40000.0</td>\n      <td>20</td>\n      <td>30000</td>\n      <td>10000.0</td>\n    </tr>\n    <tr>\n      <th>5</th>\n      <td>0.02</td>\n      <td>40000.0</td>\n      <td>30</td>\n      <td>45000</td>\n      <td>-5000.0</td>\n    </tr>\n    <tr>\n      <th>6</th>\n      <td>0.02</td>\n      <td>40000.0</td>\n      <td>40</td>\n      <td>60000</td>\n      <td>-20000.0</td>\n    </tr>\n    <tr>\n      <th>7</th>\n      <td>0.02</td>\n      <td>40000.0</td>\n      <td>50</td>\n      <td>75000</td>\n      <td>-35000.0</td>\n    </tr>\n    <tr>\n      <th>8</th>\n      <td>0.03</td>\n      <td>60000.0</td>\n      <td>20</td>\n      <td>30000</td>\n      <td>30000.0</td>\n    </tr>\n    <tr>\n      <th>9</th>\n      <td>0.03</td>\n      <td>60000.0</td>\n      <td>30</td>\n      <td>45000</td>\n      <td>15000.0</td>\n    </tr>\n    <tr>\n      <th>10</th>\n      <td>0.03</td>\n      <td>60000.0</td>\n      <td>40</td>\n      <td>60000</td>\n      <td>0.0</td>\n    </tr>\n    <tr>\n      <th>11</th>\n      <td>0.03</td>\n      <td>60000.0</td>\n      <td>50</td>\n      <td>75000</td>\n      <td>-15000.0</td>\n    </tr>\n    <tr>\n      <th>12</th>\n      <td>0.04</td>\n      <td>80000.0</td>\n      <td>20</td>\n      <td>30000</td>\n      <td>50000.0</td>\n    </tr>\n    <tr>\n      <th>13</th>\n      <td>0.04</td>\n      <td>80000.0</td>\n      <td>30</td>\n      <td>45000</td>\n      <td>35000.0</td>\n    </tr>\n    <tr>\n      <th>14</th>\n      <td>0.04</td>\n      <td>80000.0</td>\n      <td>40</td>\n      <td>60000</td>\n      <td>20000.0</td>\n    </tr>\n    <tr>\n      <th>15</th>\n      <td>0.04</td>\n      <td>80000.0</td>\n      <td>50</td>\n      <td>75000</td>\n      <td>5000.0</td>\n    </tr>\n  </tbody>\n</table>\n</div>"
     },
     "metadata": {},
     "execution_count": 5
    }
   ],
   "source": [
    "df = benefits.merge(costs, on='ones').drop('ones', axis=1)\n",
    "df['ROI'] = df.benefit - df.cost\n",
    "df"
   ]
  },
  {
   "cell_type": "code",
   "execution_count": 6,
   "id": "c6310bc3-938e-4c76-ad63-f090ba2322fb",
   "metadata": {},
   "outputs": [
    {
     "output_type": "execute_result",
     "data": {
      "text/plain": [
       "mandays       20       30       40       50\n",
       "lift                                       \n",
       "0.01    -10000.0 -25000.0 -40000.0 -55000.0\n",
       "0.02     10000.0  -5000.0 -20000.0 -35000.0\n",
       "0.03     30000.0  15000.0      0.0 -15000.0\n",
       "0.04     50000.0  35000.0  20000.0   5000.0"
      ],
      "text/html": "<div>\n<style scoped>\n    .dataframe tbody tr th:only-of-type {\n        vertical-align: middle;\n    }\n\n    .dataframe tbody tr th {\n        vertical-align: top;\n    }\n\n    .dataframe thead th {\n        text-align: right;\n    }\n</style>\n<table border=\"1\" class=\"dataframe\">\n  <thead>\n    <tr style=\"text-align: right;\">\n      <th>mandays</th>\n      <th>20</th>\n      <th>30</th>\n      <th>40</th>\n      <th>50</th>\n    </tr>\n    <tr>\n      <th>lift</th>\n      <th></th>\n      <th></th>\n      <th></th>\n      <th></th>\n    </tr>\n  </thead>\n  <tbody>\n    <tr>\n      <th>0.01</th>\n      <td>-10000.0</td>\n      <td>-25000.0</td>\n      <td>-40000.0</td>\n      <td>-55000.0</td>\n    </tr>\n    <tr>\n      <th>0.02</th>\n      <td>10000.0</td>\n      <td>-5000.0</td>\n      <td>-20000.0</td>\n      <td>-35000.0</td>\n    </tr>\n    <tr>\n      <th>0.03</th>\n      <td>30000.0</td>\n      <td>15000.0</td>\n      <td>0.0</td>\n      <td>-15000.0</td>\n    </tr>\n    <tr>\n      <th>0.04</th>\n      <td>50000.0</td>\n      <td>35000.0</td>\n      <td>20000.0</td>\n      <td>5000.0</td>\n    </tr>\n  </tbody>\n</table>\n</div>"
     },
     "metadata": {},
     "execution_count": 6
    }
   ],
   "source": [
    "df.pivot(index='lift', columns='mandays', values='ROI')"
   ]
  },
  {
   "cell_type": "code",
   "execution_count": 7,
   "id": "f90eead0-70bd-4b51-9e8e-20fee71a20ec",
   "metadata": {},
   "outputs": [
    {
     "output_type": "execute_result",
     "data": {
      "text/plain": [
       "mandays       20       30       40       50\n",
       "lift                                       \n",
       "0.01    -10000.0 -25000.0 -40000.0 -55000.0\n",
       "0.02     10000.0  -5000.0 -20000.0 -35000.0\n",
       "0.03     30000.0  15000.0      0.0 -15000.0\n",
       "0.04     50000.0  35000.0  20000.0   5000.0"
      ],
      "text/html": "<div>\n<style scoped>\n    .dataframe tbody tr th:only-of-type {\n        vertical-align: middle;\n    }\n\n    .dataframe tbody tr th {\n        vertical-align: top;\n    }\n\n    .dataframe thead th {\n        text-align: right;\n    }\n</style>\n<table border=\"1\" class=\"dataframe\">\n  <thead>\n    <tr style=\"text-align: right;\">\n      <th>mandays</th>\n      <th>20</th>\n      <th>30</th>\n      <th>40</th>\n      <th>50</th>\n    </tr>\n    <tr>\n      <th>lift</th>\n      <th></th>\n      <th></th>\n      <th></th>\n      <th></th>\n    </tr>\n  </thead>\n  <tbody>\n    <tr>\n      <th>0.01</th>\n      <td>-10000.0</td>\n      <td>-25000.0</td>\n      <td>-40000.0</td>\n      <td>-55000.0</td>\n    </tr>\n    <tr>\n      <th>0.02</th>\n      <td>10000.0</td>\n      <td>-5000.0</td>\n      <td>-20000.0</td>\n      <td>-35000.0</td>\n    </tr>\n    <tr>\n      <th>0.03</th>\n      <td>30000.0</td>\n      <td>15000.0</td>\n      <td>0.0</td>\n      <td>-15000.0</td>\n    </tr>\n    <tr>\n      <th>0.04</th>\n      <td>50000.0</td>\n      <td>35000.0</td>\n      <td>20000.0</td>\n      <td>5000.0</td>\n    </tr>\n  </tbody>\n</table>\n</div>"
     },
     "metadata": {},
     "execution_count": 7
    }
   ],
   "source": [
    "df_double_index = df.set_index(['lift', 'mandays']).ROI\n",
    "sensitivity_matrix = df_double_index.unstack()\n",
    "sensitivity_matrix"
   ]
  },
  {
   "cell_type": "code",
   "execution_count": 8,
   "id": "587986a0-6311-464c-8b81-b496118b521b",
   "metadata": {},
   "outputs": [
    {
     "output_type": "execute_result",
     "data": {
      "text/plain": [
       "<pandas.io.formats.style.Styler at 0x132954400>"
      ],
      "text/html": "<style  type=\"text/css\" >\n#T_e87e0_row0_col0,#T_e87e0_row0_col1,#T_e87e0_row0_col2,#T_e87e0_row0_col3,#T_e87e0_row1_col1,#T_e87e0_row1_col2,#T_e87e0_row1_col3,#T_e87e0_row2_col3{\n            color:  red;\n        }#T_e87e0_row1_col0,#T_e87e0_row2_col0,#T_e87e0_row2_col1,#T_e87e0_row2_col2,#T_e87e0_row3_col0,#T_e87e0_row3_col1,#T_e87e0_row3_col2,#T_e87e0_row3_col3{\n            font-weight:  bold;\n        }</style><table id=\"T_e87e0_\" ><thead>    <tr>        <th class=\"index_name level0\" >mandays</th>        <th class=\"col_heading level0 col0\" >20</th>        <th class=\"col_heading level0 col1\" >30</th>        <th class=\"col_heading level0 col2\" >40</th>        <th class=\"col_heading level0 col3\" >50</th>    </tr>    <tr>        <th class=\"index_name level0\" >lift</th>        <th class=\"blank\" ></th>        <th class=\"blank\" ></th>        <th class=\"blank\" ></th>        <th class=\"blank\" ></th>    </tr></thead><tbody>\n                <tr>\n                        <th id=\"T_e87e0_level0_row0\" class=\"row_heading level0 row0\" >0.01</th>\n                        <td id=\"T_e87e0_row0_col0\" class=\"data row0 col0\" >-10000.000000</td>\n                        <td id=\"T_e87e0_row0_col1\" class=\"data row0 col1\" >-25000.000000</td>\n                        <td id=\"T_e87e0_row0_col2\" class=\"data row0 col2\" >-40000.000000</td>\n                        <td id=\"T_e87e0_row0_col3\" class=\"data row0 col3\" >-55000.000000</td>\n            </tr>\n            <tr>\n                        <th id=\"T_e87e0_level0_row1\" class=\"row_heading level0 row1\" >0.02</th>\n                        <td id=\"T_e87e0_row1_col0\" class=\"data row1 col0\" >10000.000000</td>\n                        <td id=\"T_e87e0_row1_col1\" class=\"data row1 col1\" >-5000.000000</td>\n                        <td id=\"T_e87e0_row1_col2\" class=\"data row1 col2\" >-20000.000000</td>\n                        <td id=\"T_e87e0_row1_col3\" class=\"data row1 col3\" >-35000.000000</td>\n            </tr>\n            <tr>\n                        <th id=\"T_e87e0_level0_row2\" class=\"row_heading level0 row2\" >0.03</th>\n                        <td id=\"T_e87e0_row2_col0\" class=\"data row2 col0\" >30000.000000</td>\n                        <td id=\"T_e87e0_row2_col1\" class=\"data row2 col1\" >15000.000000</td>\n                        <td id=\"T_e87e0_row2_col2\" class=\"data row2 col2\" >0.000000</td>\n                        <td id=\"T_e87e0_row2_col3\" class=\"data row2 col3\" >-15000.000000</td>\n            </tr>\n            <tr>\n                        <th id=\"T_e87e0_level0_row3\" class=\"row_heading level0 row3\" >0.04</th>\n                        <td id=\"T_e87e0_row3_col0\" class=\"data row3 col0\" >50000.000000</td>\n                        <td id=\"T_e87e0_row3_col1\" class=\"data row3 col1\" >35000.000000</td>\n                        <td id=\"T_e87e0_row3_col2\" class=\"data row3 col2\" >20000.000000</td>\n                        <td id=\"T_e87e0_row3_col3\" class=\"data row3 col3\" >5000.000000</td>\n            </tr>\n    </tbody></table>"
     },
     "metadata": {},
     "execution_count": 8
    }
   ],
   "source": [
    "sensitivity_matrix.style.applymap(lambda cell: 'color: red' if cell < 0 else 'font-weight: bold')"
   ]
  },
  {
   "cell_type": "markdown",
   "id": "9a911bc7-4716-4df6-91be-8685d08f440a",
   "metadata": {},
   "source": [
    "## `args` and `kwargs`"
   ]
  },
  {
   "cell_type": "code",
   "execution_count": 9,
   "id": "edcaf070-c272-4d85-8e54-81d02ec45c6c",
   "metadata": {},
   "outputs": [],
   "source": [
    "def foo(required, *args, **kwargs):\n",
    "    \"\"\"This is the function docstring\"\"\"\n",
    "    print(f\"Required argument: {required}\")\n",
    "    if args:\n",
    "        print(f\"ARGS: {args}\")\n",
    "    if kwargs:\n",
    "        print(f\"KWARGS: {kwargs}\")"
   ]
  },
  {
   "cell_type": "code",
   "execution_count": 10,
   "id": "33f4e81a-e069-4b8f-82f3-ce43853b595a",
   "metadata": {},
   "outputs": [
    {
     "output_type": "stream",
     "name": "stdout",
     "text": [
      "Required argument: 1\nARGS: (2, 3, 4, 5, 'this is text')\nKWARGS: {'theta': 0.3, 'keyword': 'value', 'something': 'something'}\n"
     ]
    }
   ],
   "source": [
    "foo(1, 2, 3, 4, 5, \"this is text\", theta=0.3, keyword=\"value\", something=\"something\")"
   ]
  },
  {
   "cell_type": "code",
   "execution_count": 11,
   "id": "731f15e2-4158-4de4-acd8-50af16f25067",
   "metadata": {},
   "outputs": [],
   "source": [
    "a_list = [1, 2, 3]\n",
    "a_dict = {'theta': 0.3, 'keyword': 'value', 'something': 'something'}"
   ]
  },
  {
   "cell_type": "code",
   "execution_count": 12,
   "id": "7951ee88-37ad-4f40-80b7-6b08b006c10f",
   "metadata": {},
   "outputs": [
    {
     "output_type": "stream",
     "name": "stdout",
     "text": [
      "Required argument: 1\nARGS: (1, 2, 3)\nKWARGS: {'theta': 0.3, 'keyword': 'value', 'something': 'something'}\n"
     ]
    }
   ],
   "source": [
    "foo(1, *a_list, **a_dict) # => foo(theta=0.3, keyword=value', something=something')"
   ]
  },
  {
   "cell_type": "code",
   "execution_count": 13,
   "id": "4b64af55-59dd-4ea7-961e-fe4c83026e7f",
   "metadata": {},
   "outputs": [],
   "source": [
    "class Student:\n",
    "    school = 'lewagon'\n",
    "    def __init__(self, name, age, **kwargs):\n",
    "        \"\"\"What kwargs are accepted?\"\"\"\n",
    "        self.name = name\n",
    "        self.age = age\n",
    "        self.__dict__.update(kwargs)"
   ]
  },
  {
   "cell_type": "code",
   "execution_count": 14,
   "id": "b806ab9e-b742-431b-8c71-110a207c5f9b",
   "metadata": {},
   "outputs": [
    {
     "output_type": "execute_result",
     "data": {
      "text/plain": [
       "{'name': 'Adrien',\n",
       " 'age': 22,\n",
       " 'nationality': 'French',\n",
       " 'cursus': 'Data Science',\n",
       " 'whatever': 'value'}"
      ]
     },
     "metadata": {},
     "execution_count": 14
    }
   ],
   "source": [
    "Student('Adrien', 22, nationality='French', cursus='Data Science', whatever=\"value\").__dict__"
   ]
  },
  {
   "cell_type": "code",
   "execution_count": 15,
   "id": "f7a5bc68-83ee-4aea-aed6-a5fdb7e76ab0",
   "metadata": {},
   "outputs": [],
   "source": [
    "new_dict = { 'a': 1, 'b': 2, 'key': 'value' }\n",
    "new_dict.update({ 'c': 3, 'd': 4})"
   ]
  },
  {
   "cell_type": "code",
   "execution_count": 16,
   "id": "5694c643-b93c-47b8-86a8-9fe6dc70d794",
   "metadata": {},
   "outputs": [
    {
     "output_type": "execute_result",
     "data": {
      "text/plain": [
       "{'a': 1, 'b': 2, 'key': 'value', 'c': 3, 'd': 4}"
      ]
     },
     "metadata": {},
     "execution_count": 16
    }
   ],
   "source": [
    "new_dict"
   ]
  },
  {
   "cell_type": "code",
   "execution_count": 17,
   "id": "eb58731c-6386-48b8-9405-e28dfbffec19",
   "metadata": {},
   "outputs": [],
   "source": [
    "class DataStudent(Student):\n",
    "    batch = 'data'    \n",
    "    def __init(self, *args, **kwargs):\n",
    "        super().__init__(*args, **kwargs)"
   ]
  },
  {
   "cell_type": "code",
   "execution_count": 18,
   "id": "c2c93faa-01df-4cec-adc4-6723bd56e79b",
   "metadata": {},
   "outputs": [
    {
     "output_type": "execute_result",
     "data": {
      "text/plain": [
       "'data'"
      ]
     },
     "metadata": {},
     "execution_count": 18
    }
   ],
   "source": [
    "DataStudent('Adrien', 22).batch"
   ]
  },
  {
   "cell_type": "code",
   "execution_count": 19,
   "id": "63080e08-b769-4b18-b424-1836639905e0",
   "metadata": {},
   "outputs": [],
   "source": [
    "a_string = 'text'"
   ]
  },
  {
   "cell_type": "code",
   "execution_count": 20,
   "id": "54b8a57f-794f-4666-8eb0-06333edae007",
   "metadata": {},
   "outputs": [],
   "source": [
    "a_string = 2"
   ]
  },
  {
   "cell_type": "code",
   "execution_count": 23,
   "id": "a7c35c24-faa3-4e86-88fa-5f52216379d5",
   "metadata": {},
   "outputs": [],
   "source": [
    "def hello(name: str) -> str:\n",
    "    return f'Hello {name}'"
   ]
  },
  {
   "cell_type": "code",
   "execution_count": 25,
   "id": "827e0df1-4d2e-4117-a61c-e98593817920",
   "metadata": {},
   "outputs": [
    {
     "output_type": "execute_result",
     "data": {
      "text/plain": [
       "'Hello Adrien'"
      ]
     },
     "metadata": {},
     "execution_count": 25
    }
   ],
   "source": [
    "hello('Adrien')"
   ]
  },
  {
   "cell_type": "markdown",
   "id": "1720da8e-88b3-4895-a10b-84e373413638",
   "metadata": {},
   "source": [
    "## Interaction"
   ]
  },
  {
   "cell_type": "code",
   "execution_count": 26,
   "id": "2d312ec7-6752-4e2d-b08a-c1f1dd2443dd",
   "metadata": {
    "slideshow": {
     "slide_type": "skip"
    },
    "tags": []
   },
   "outputs": [
    {
     "output_type": "display_data",
     "data": {
      "text/plain": "interactive(children=(Dropdown(description='a', options=(0, 1, 2, 3), value=0), IntSlider(value=2, description…",
      "application/vnd.jupyter.widget-view+json": {
       "version_major": 2,
       "version_minor": 0,
       "model_id": "71f432fd3fab49d282c3b7b4572a3f65"
      }
     },
     "metadata": {}
    }
   ],
   "source": [
    "from ipywidgets import interact\n",
    "from matplotlib import pyplot as plt\n",
    "\n",
    "@interact\n",
    "def plot_polynom(a=[0,1,2,3], b=2, add_grid=False):\n",
    "    x = np.arange(-10, 10, 0.1)\n",
    "    y = a*x**3+ b*x**2    \n",
    "    if add_grid:\n",
    "        plt.grid()\n",
    "    plt.plot(x,y); plt.xlim(xmin=-10, xmax=10); plt.ylim(ymin=-100, ymax=100)"
   ]
  },
  {
   "cell_type": "markdown",
   "id": "8545943d-5c67-4025-87d0-33a4a7b2f805",
   "metadata": {
    "slideshow": {
     "slide_type": "skip"
    },
    "tags": []
   },
   "source": [
    "### Decorators"
   ]
  },
  {
   "cell_type": "code",
   "execution_count": 27,
   "id": "a4dde91d-fdd3-40b8-b516-2cc13c0b5c47",
   "metadata": {
    "slideshow": {
     "slide_type": "skip"
    },
    "tags": []
   },
   "outputs": [
    {
     "output_type": "stream",
     "name": "stdout",
     "text": [
      "before calling the original function\nHello\nafter calling\n"
     ]
    }
   ],
   "source": [
    "def my_decorator(function):\n",
    "    def new_function():\n",
    "        print(\"before calling the original function\")\n",
    "        print(function())\n",
    "        print(\"after calling\")\n",
    "    return new_function\n",
    "\n",
    "\n",
    "@my_decorator\n",
    "def hello():\n",
    "    return f\"Hello\"\n",
    "    \n",
    "# hello = my_decorator(hello)\n",
    "\n",
    "hello()"
   ]
  },
  {
   "cell_type": "code",
   "execution_count": 28,
   "id": "8aca0ca8-dd3d-426e-bacc-05e2f4e7a59e",
   "metadata": {
    "slideshow": {
     "slide_type": "slide"
    },
    "tags": []
   },
   "outputs": [
    {
     "output_type": "display_data",
     "data": {
      "application/vnd.plotly.v1+json": {
       "config": {
        "plotlyServerURL": "https://plot.ly"
       },
       "data": [
        {
         "hovertemplate": "species=setosa<br>sepal_width=%{x}<br>sepal_length=%{y}<extra></extra>",
         "legendgroup": "setosa",
         "marker": {
          "color": "#636efa",
          "symbol": "circle"
         },
         "mode": "markers",
         "name": "setosa",
         "orientation": "v",
         "showlegend": true,
         "type": "scatter",
         "x": [
          3.5,
          3,
          3.2,
          3.1,
          3.6,
          3.9,
          3.4,
          3.4,
          2.9,
          3.1,
          3.7,
          3.4,
          3,
          3,
          4,
          4.4,
          3.9,
          3.5,
          3.8,
          3.8,
          3.4,
          3.7,
          3.6,
          3.3,
          3.4,
          3,
          3.4,
          3.5,
          3.4,
          3.2,
          3.1,
          3.4,
          4.1,
          4.2,
          3.1,
          3.2,
          3.5,
          3.1,
          3,
          3.4,
          3.5,
          2.3,
          3.2,
          3.5,
          3.8,
          3,
          3.8,
          3.2,
          3.7,
          3.3
         ],
         "xaxis": "x",
         "y": [
          5.1,
          4.9,
          4.7,
          4.6,
          5,
          5.4,
          4.6,
          5,
          4.4,
          4.9,
          5.4,
          4.8,
          4.8,
          4.3,
          5.8,
          5.7,
          5.4,
          5.1,
          5.7,
          5.1,
          5.4,
          5.1,
          4.6,
          5.1,
          4.8,
          5,
          5,
          5.2,
          5.2,
          4.7,
          4.8,
          5.4,
          5.2,
          5.5,
          4.9,
          5,
          5.5,
          4.9,
          4.4,
          5.1,
          5,
          4.5,
          4.4,
          5,
          5.1,
          4.8,
          5.1,
          4.6,
          5.3,
          5
         ],
         "yaxis": "y"
        },
        {
         "hovertemplate": "species=versicolor<br>sepal_width=%{x}<br>sepal_length=%{y}<extra></extra>",
         "legendgroup": "versicolor",
         "marker": {
          "color": "#EF553B",
          "symbol": "circle"
         },
         "mode": "markers",
         "name": "versicolor",
         "orientation": "v",
         "showlegend": true,
         "type": "scatter",
         "x": [
          3.2,
          3.2,
          3.1,
          2.3,
          2.8,
          2.8,
          3.3,
          2.4,
          2.9,
          2.7,
          2,
          3,
          2.2,
          2.9,
          2.9,
          3.1,
          3,
          2.7,
          2.2,
          2.5,
          3.2,
          2.8,
          2.5,
          2.8,
          2.9,
          3,
          2.8,
          3,
          2.9,
          2.6,
          2.4,
          2.4,
          2.7,
          2.7,
          3,
          3.4,
          3.1,
          2.3,
          3,
          2.5,
          2.6,
          3,
          2.6,
          2.3,
          2.7,
          3,
          2.9,
          2.9,
          2.5,
          2.8
         ],
         "xaxis": "x",
         "y": [
          7,
          6.4,
          6.9,
          5.5,
          6.5,
          5.7,
          6.3,
          4.9,
          6.6,
          5.2,
          5,
          5.9,
          6,
          6.1,
          5.6,
          6.7,
          5.6,
          5.8,
          6.2,
          5.6,
          5.9,
          6.1,
          6.3,
          6.1,
          6.4,
          6.6,
          6.8,
          6.7,
          6,
          5.7,
          5.5,
          5.5,
          5.8,
          6,
          5.4,
          6,
          6.7,
          6.3,
          5.6,
          5.5,
          5.5,
          6.1,
          5.8,
          5,
          5.6,
          5.7,
          5.7,
          6.2,
          5.1,
          5.7
         ],
         "yaxis": "y"
        },
        {
         "hovertemplate": "species=virginica<br>sepal_width=%{x}<br>sepal_length=%{y}<extra></extra>",
         "legendgroup": "virginica",
         "marker": {
          "color": "#00cc96",
          "symbol": "circle"
         },
         "mode": "markers",
         "name": "virginica",
         "orientation": "v",
         "showlegend": true,
         "type": "scatter",
         "x": [
          3.3,
          2.7,
          3,
          2.9,
          3,
          3,
          2.5,
          2.9,
          2.5,
          3.6,
          3.2,
          2.7,
          3,
          2.5,
          2.8,
          3.2,
          3,
          3.8,
          2.6,
          2.2,
          3.2,
          2.8,
          2.8,
          2.7,
          3.3,
          3.2,
          2.8,
          3,
          2.8,
          3,
          2.8,
          3.8,
          2.8,
          2.8,
          2.6,
          3,
          3.4,
          3.1,
          3,
          3.1,
          3.1,
          3.1,
          2.7,
          3.2,
          3.3,
          3,
          2.5,
          3,
          3.4,
          3
         ],
         "xaxis": "x",
         "y": [
          6.3,
          5.8,
          7.1,
          6.3,
          6.5,
          7.6,
          4.9,
          7.3,
          6.7,
          7.2,
          6.5,
          6.4,
          6.8,
          5.7,
          5.8,
          6.4,
          6.5,
          7.7,
          7.7,
          6,
          6.9,
          5.6,
          7.7,
          6.3,
          6.7,
          7.2,
          6.2,
          6.1,
          6.4,
          7.2,
          7.4,
          7.9,
          6.4,
          6.3,
          6.1,
          7.7,
          6.3,
          6.4,
          6,
          6.9,
          6.7,
          6.9,
          5.8,
          6.8,
          6.7,
          6.7,
          6.3,
          6.5,
          6.2,
          5.9
         ],
         "yaxis": "y"
        }
       ],
       "layout": {
        "height": 600,
        "legend": {
         "title": {
          "text": "species"
         },
         "tracegroupgap": 0
        },
        "margin": {
         "t": 60
        },
        "template": {
         "data": {
          "bar": [
           {
            "error_x": {
             "color": "#2a3f5f"
            },
            "error_y": {
             "color": "#2a3f5f"
            },
            "marker": {
             "line": {
              "color": "#E5ECF6",
              "width": 0.5
             }
            },
            "type": "bar"
           }
          ],
          "barpolar": [
           {
            "marker": {
             "line": {
              "color": "#E5ECF6",
              "width": 0.5
             }
            },
            "type": "barpolar"
           }
          ],
          "carpet": [
           {
            "aaxis": {
             "endlinecolor": "#2a3f5f",
             "gridcolor": "white",
             "linecolor": "white",
             "minorgridcolor": "white",
             "startlinecolor": "#2a3f5f"
            },
            "baxis": {
             "endlinecolor": "#2a3f5f",
             "gridcolor": "white",
             "linecolor": "white",
             "minorgridcolor": "white",
             "startlinecolor": "#2a3f5f"
            },
            "type": "carpet"
           }
          ],
          "choropleth": [
           {
            "colorbar": {
             "outlinewidth": 0,
             "ticks": ""
            },
            "type": "choropleth"
           }
          ],
          "contour": [
           {
            "colorbar": {
             "outlinewidth": 0,
             "ticks": ""
            },
            "colorscale": [
             [
              0,
              "#0d0887"
             ],
             [
              0.1111111111111111,
              "#46039f"
             ],
             [
              0.2222222222222222,
              "#7201a8"
             ],
             [
              0.3333333333333333,
              "#9c179e"
             ],
             [
              0.4444444444444444,
              "#bd3786"
             ],
             [
              0.5555555555555556,
              "#d8576b"
             ],
             [
              0.6666666666666666,
              "#ed7953"
             ],
             [
              0.7777777777777778,
              "#fb9f3a"
             ],
             [
              0.8888888888888888,
              "#fdca26"
             ],
             [
              1,
              "#f0f921"
             ]
            ],
            "type": "contour"
           }
          ],
          "contourcarpet": [
           {
            "colorbar": {
             "outlinewidth": 0,
             "ticks": ""
            },
            "type": "contourcarpet"
           }
          ],
          "heatmap": [
           {
            "colorbar": {
             "outlinewidth": 0,
             "ticks": ""
            },
            "colorscale": [
             [
              0,
              "#0d0887"
             ],
             [
              0.1111111111111111,
              "#46039f"
             ],
             [
              0.2222222222222222,
              "#7201a8"
             ],
             [
              0.3333333333333333,
              "#9c179e"
             ],
             [
              0.4444444444444444,
              "#bd3786"
             ],
             [
              0.5555555555555556,
              "#d8576b"
             ],
             [
              0.6666666666666666,
              "#ed7953"
             ],
             [
              0.7777777777777778,
              "#fb9f3a"
             ],
             [
              0.8888888888888888,
              "#fdca26"
             ],
             [
              1,
              "#f0f921"
             ]
            ],
            "type": "heatmap"
           }
          ],
          "heatmapgl": [
           {
            "colorbar": {
             "outlinewidth": 0,
             "ticks": ""
            },
            "colorscale": [
             [
              0,
              "#0d0887"
             ],
             [
              0.1111111111111111,
              "#46039f"
             ],
             [
              0.2222222222222222,
              "#7201a8"
             ],
             [
              0.3333333333333333,
              "#9c179e"
             ],
             [
              0.4444444444444444,
              "#bd3786"
             ],
             [
              0.5555555555555556,
              "#d8576b"
             ],
             [
              0.6666666666666666,
              "#ed7953"
             ],
             [
              0.7777777777777778,
              "#fb9f3a"
             ],
             [
              0.8888888888888888,
              "#fdca26"
             ],
             [
              1,
              "#f0f921"
             ]
            ],
            "type": "heatmapgl"
           }
          ],
          "histogram": [
           {
            "marker": {
             "colorbar": {
              "outlinewidth": 0,
              "ticks": ""
             }
            },
            "type": "histogram"
           }
          ],
          "histogram2d": [
           {
            "colorbar": {
             "outlinewidth": 0,
             "ticks": ""
            },
            "colorscale": [
             [
              0,
              "#0d0887"
             ],
             [
              0.1111111111111111,
              "#46039f"
             ],
             [
              0.2222222222222222,
              "#7201a8"
             ],
             [
              0.3333333333333333,
              "#9c179e"
             ],
             [
              0.4444444444444444,
              "#bd3786"
             ],
             [
              0.5555555555555556,
              "#d8576b"
             ],
             [
              0.6666666666666666,
              "#ed7953"
             ],
             [
              0.7777777777777778,
              "#fb9f3a"
             ],
             [
              0.8888888888888888,
              "#fdca26"
             ],
             [
              1,
              "#f0f921"
             ]
            ],
            "type": "histogram2d"
           }
          ],
          "histogram2dcontour": [
           {
            "colorbar": {
             "outlinewidth": 0,
             "ticks": ""
            },
            "colorscale": [
             [
              0,
              "#0d0887"
             ],
             [
              0.1111111111111111,
              "#46039f"
             ],
             [
              0.2222222222222222,
              "#7201a8"
             ],
             [
              0.3333333333333333,
              "#9c179e"
             ],
             [
              0.4444444444444444,
              "#bd3786"
             ],
             [
              0.5555555555555556,
              "#d8576b"
             ],
             [
              0.6666666666666666,
              "#ed7953"
             ],
             [
              0.7777777777777778,
              "#fb9f3a"
             ],
             [
              0.8888888888888888,
              "#fdca26"
             ],
             [
              1,
              "#f0f921"
             ]
            ],
            "type": "histogram2dcontour"
           }
          ],
          "mesh3d": [
           {
            "colorbar": {
             "outlinewidth": 0,
             "ticks": ""
            },
            "type": "mesh3d"
           }
          ],
          "parcoords": [
           {
            "line": {
             "colorbar": {
              "outlinewidth": 0,
              "ticks": ""
             }
            },
            "type": "parcoords"
           }
          ],
          "pie": [
           {
            "automargin": true,
            "type": "pie"
           }
          ],
          "scatter": [
           {
            "marker": {
             "colorbar": {
              "outlinewidth": 0,
              "ticks": ""
             }
            },
            "type": "scatter"
           }
          ],
          "scatter3d": [
           {
            "line": {
             "colorbar": {
              "outlinewidth": 0,
              "ticks": ""
             }
            },
            "marker": {
             "colorbar": {
              "outlinewidth": 0,
              "ticks": ""
             }
            },
            "type": "scatter3d"
           }
          ],
          "scattercarpet": [
           {
            "marker": {
             "colorbar": {
              "outlinewidth": 0,
              "ticks": ""
             }
            },
            "type": "scattercarpet"
           }
          ],
          "scattergeo": [
           {
            "marker": {
             "colorbar": {
              "outlinewidth": 0,
              "ticks": ""
             }
            },
            "type": "scattergeo"
           }
          ],
          "scattergl": [
           {
            "marker": {
             "colorbar": {
              "outlinewidth": 0,
              "ticks": ""
             }
            },
            "type": "scattergl"
           }
          ],
          "scattermapbox": [
           {
            "marker": {
             "colorbar": {
              "outlinewidth": 0,
              "ticks": ""
             }
            },
            "type": "scattermapbox"
           }
          ],
          "scatterpolar": [
           {
            "marker": {
             "colorbar": {
              "outlinewidth": 0,
              "ticks": ""
             }
            },
            "type": "scatterpolar"
           }
          ],
          "scatterpolargl": [
           {
            "marker": {
             "colorbar": {
              "outlinewidth": 0,
              "ticks": ""
             }
            },
            "type": "scatterpolargl"
           }
          ],
          "scatterternary": [
           {
            "marker": {
             "colorbar": {
              "outlinewidth": 0,
              "ticks": ""
             }
            },
            "type": "scatterternary"
           }
          ],
          "surface": [
           {
            "colorbar": {
             "outlinewidth": 0,
             "ticks": ""
            },
            "colorscale": [
             [
              0,
              "#0d0887"
             ],
             [
              0.1111111111111111,
              "#46039f"
             ],
             [
              0.2222222222222222,
              "#7201a8"
             ],
             [
              0.3333333333333333,
              "#9c179e"
             ],
             [
              0.4444444444444444,
              "#bd3786"
             ],
             [
              0.5555555555555556,
              "#d8576b"
             ],
             [
              0.6666666666666666,
              "#ed7953"
             ],
             [
              0.7777777777777778,
              "#fb9f3a"
             ],
             [
              0.8888888888888888,
              "#fdca26"
             ],
             [
              1,
              "#f0f921"
             ]
            ],
            "type": "surface"
           }
          ],
          "table": [
           {
            "cells": {
             "fill": {
              "color": "#EBF0F8"
             },
             "line": {
              "color": "white"
             }
            },
            "header": {
             "fill": {
              "color": "#C8D4E3"
             },
             "line": {
              "color": "white"
             }
            },
            "type": "table"
           }
          ]
         },
         "layout": {
          "annotationdefaults": {
           "arrowcolor": "#2a3f5f",
           "arrowhead": 0,
           "arrowwidth": 1
          },
          "autotypenumbers": "strict",
          "coloraxis": {
           "colorbar": {
            "outlinewidth": 0,
            "ticks": ""
           }
          },
          "colorscale": {
           "diverging": [
            [
             0,
             "#8e0152"
            ],
            [
             0.1,
             "#c51b7d"
            ],
            [
             0.2,
             "#de77ae"
            ],
            [
             0.3,
             "#f1b6da"
            ],
            [
             0.4,
             "#fde0ef"
            ],
            [
             0.5,
             "#f7f7f7"
            ],
            [
             0.6,
             "#e6f5d0"
            ],
            [
             0.7,
             "#b8e186"
            ],
            [
             0.8,
             "#7fbc41"
            ],
            [
             0.9,
             "#4d9221"
            ],
            [
             1,
             "#276419"
            ]
           ],
           "sequential": [
            [
             0,
             "#0d0887"
            ],
            [
             0.1111111111111111,
             "#46039f"
            ],
            [
             0.2222222222222222,
             "#7201a8"
            ],
            [
             0.3333333333333333,
             "#9c179e"
            ],
            [
             0.4444444444444444,
             "#bd3786"
            ],
            [
             0.5555555555555556,
             "#d8576b"
            ],
            [
             0.6666666666666666,
             "#ed7953"
            ],
            [
             0.7777777777777778,
             "#fb9f3a"
            ],
            [
             0.8888888888888888,
             "#fdca26"
            ],
            [
             1,
             "#f0f921"
            ]
           ],
           "sequentialminus": [
            [
             0,
             "#0d0887"
            ],
            [
             0.1111111111111111,
             "#46039f"
            ],
            [
             0.2222222222222222,
             "#7201a8"
            ],
            [
             0.3333333333333333,
             "#9c179e"
            ],
            [
             0.4444444444444444,
             "#bd3786"
            ],
            [
             0.5555555555555556,
             "#d8576b"
            ],
            [
             0.6666666666666666,
             "#ed7953"
            ],
            [
             0.7777777777777778,
             "#fb9f3a"
            ],
            [
             0.8888888888888888,
             "#fdca26"
            ],
            [
             1,
             "#f0f921"
            ]
           ]
          },
          "colorway": [
           "#636efa",
           "#EF553B",
           "#00cc96",
           "#ab63fa",
           "#FFA15A",
           "#19d3f3",
           "#FF6692",
           "#B6E880",
           "#FF97FF",
           "#FECB52"
          ],
          "font": {
           "color": "#2a3f5f"
          },
          "geo": {
           "bgcolor": "white",
           "lakecolor": "white",
           "landcolor": "#E5ECF6",
           "showlakes": true,
           "showland": true,
           "subunitcolor": "white"
          },
          "hoverlabel": {
           "align": "left"
          },
          "hovermode": "closest",
          "mapbox": {
           "style": "light"
          },
          "paper_bgcolor": "white",
          "plot_bgcolor": "#E5ECF6",
          "polar": {
           "angularaxis": {
            "gridcolor": "white",
            "linecolor": "white",
            "ticks": ""
           },
           "bgcolor": "#E5ECF6",
           "radialaxis": {
            "gridcolor": "white",
            "linecolor": "white",
            "ticks": ""
           }
          },
          "scene": {
           "xaxis": {
            "backgroundcolor": "#E5ECF6",
            "gridcolor": "white",
            "gridwidth": 2,
            "linecolor": "white",
            "showbackground": true,
            "ticks": "",
            "zerolinecolor": "white"
           },
           "yaxis": {
            "backgroundcolor": "#E5ECF6",
            "gridcolor": "white",
            "gridwidth": 2,
            "linecolor": "white",
            "showbackground": true,
            "ticks": "",
            "zerolinecolor": "white"
           },
           "zaxis": {
            "backgroundcolor": "#E5ECF6",
            "gridcolor": "white",
            "gridwidth": 2,
            "linecolor": "white",
            "showbackground": true,
            "ticks": "",
            "zerolinecolor": "white"
           }
          },
          "shapedefaults": {
           "line": {
            "color": "#2a3f5f"
           }
          },
          "ternary": {
           "aaxis": {
            "gridcolor": "white",
            "linecolor": "white",
            "ticks": ""
           },
           "baxis": {
            "gridcolor": "white",
            "linecolor": "white",
            "ticks": ""
           },
           "bgcolor": "#E5ECF6",
           "caxis": {
            "gridcolor": "white",
            "linecolor": "white",
            "ticks": ""
           }
          },
          "title": {
           "x": 0.05
          },
          "xaxis": {
           "automargin": true,
           "gridcolor": "white",
           "linecolor": "white",
           "ticks": "",
           "title": {
            "standoff": 15
           },
           "zerolinecolor": "white",
           "zerolinewidth": 2
          },
          "yaxis": {
           "automargin": true,
           "gridcolor": "white",
           "linecolor": "white",
           "ticks": "",
           "title": {
            "standoff": 15
           },
           "zerolinecolor": "white",
           "zerolinewidth": 2
          }
         }
        },
        "width": 800,
        "xaxis": {
         "anchor": "y",
         "domain": [
          0,
          1
         ],
         "title": {
          "text": "sepal_width"
         }
        },
        "yaxis": {
         "anchor": "x",
         "domain": [
          0,
          1
         ],
         "title": {
          "text": "sepal_length"
         }
        }
       }
      }
     },
     "metadata": {}
    }
   ],
   "source": [
    "import plotly.express as px\n",
    "df = px.data.iris()\n",
    "fig = px.scatter(df, x=\"sepal_width\", y=\"sepal_length\", color=\"species\",\n",
    "width=800,\n",
    "height=600)\n",
    "fig.show()"
   ]
  },
  {
   "cell_type": "code",
   "execution_count": null,
   "id": "60c51ef0-d4a1-4740-b823-55d65bb2aaf0",
   "metadata": {},
   "outputs": [],
   "source": []
  }
 ],
 "metadata": {
  "kernelspec": {
   "name": "python386jvsc74a57bd06fff15ad0f34294884ffc222d4d67a8430b84850b1c333d3e70e9eca530aa79e",
   "display_name": "Python 3.8.6 64-bit ('.pyenv': pyenv)"
  },
  "language_info": {
   "codemirror_mode": {
    "name": "ipython",
    "version": 3
   },
   "file_extension": ".py",
   "mimetype": "text/x-python",
   "name": "python",
   "nbconvert_exporter": "python",
   "pygments_lexer": "ipython3",
   "version": "3.8.6"
  }
 },
 "nbformat": 4,
 "nbformat_minor": 5
}